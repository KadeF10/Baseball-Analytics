{
  "nbformat": 4,
  "nbformat_minor": 0,
  "metadata": {
    "colab": {
      "name": "Project 1: Part 1",
      "provenance": [],
      "authorship_tag": "ABX9TyPen52lPrF+mS00Gslg+EGb",
      "include_colab_link": true
    },
    "kernelspec": {
      "name": "python3",
      "display_name": "Python 3"
    },
    "language_info": {
      "name": "python"
    }
  },
  "cells": [
    {
      "cell_type": "markdown",
      "metadata": {
        "id": "view-in-github",
        "colab_type": "text"
      },
      "source": [
        "<a href=\"https://colab.research.google.com/github/KadeF10/Baseball-Analytics/blob/main/Project_1_Part_1.ipynb\" target=\"_parent\"><img src=\"https://colab.research.google.com/assets/colab-badge.svg\" alt=\"Open In Colab\"/></a>"
      ]
    },
    {
      "cell_type": "code",
      "execution_count": 10,
      "metadata": {
        "id": "8zYDF7uG5Wpg"
      },
      "outputs": [],
      "source": [
        "def stocks(ticker=True):\n",
        "  url = 'https://www.alphavantage.co/query?function=TIME_SERIES_WEEKLY&symbol='+ticker+'&apikey=LMSIC44B44EAUD7D'\n",
        "  r = requests.get(url)\n",
        "  data = r.json()\n",
        "  stocks=pd.DataFrame.from_dict(data['Weekly Time Series'], orient='index', inplace=True)\n",
        "  stocks.rename(columns={'1. open': 'open', '2. high': 'high', '3. low': 'low', '4. close': 'close', '5. volume': 'volume' }, inplace=True)\n",
        "  stocks.reset_index(inplace=True)\n",
        "  stocks=stocks.rename(columns = {'index':'date'})\n",
        "  stocks['ticker']= ticker\n",
        "  return stocks"
      ]
    },
    {
      "cell_type": "code",
      "source": [
        "import matplotlib.pyplot as plt\n",
        "\n",
        "plt.plot(stocks(ticker='IBM')['high', 'low'])\n",
        "plt.xlabel('Time')\n",
        "plt.ylabel('IBM monthly stock price (high and low)')\n",
        "plt.title('Weekly Time Series Stocks')\n",
        "plt.show()"
      ],
      "metadata": {
        "id": "dTmLnAyq_8h5"
      },
      "execution_count": null,
      "outputs": []
    }
  ]
}